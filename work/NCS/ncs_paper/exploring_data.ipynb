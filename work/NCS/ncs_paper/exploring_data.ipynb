{
 "cells": [
  {
   "cell_type": "code",
   "execution_count": 152,
   "metadata": {},
   "outputs": [],
   "source": [
    "import matplotlib.pyplot as plt\n",
    "import seaborn as ses\n",
    "import pandas as pd\n",
    "import numpy as np\n",
    "import os\n",
    "# set path and load data\n",
    "p = r'C:\\Phenix\\Dev\\work\\work\\work\\NCS\\ncs_paper'\n",
    "fn = r'C:\\Phenix\\Dev\\work\\work\\work\\NCS\\ncs_paper\\ncs_paper_data_files\\ncs_paper_data.csv'\n",
    "os.chdir(p)\n",
    "# create a data frame from refinement results\n",
    "df = pd.DataFrame.from_csv(fn,index_col=False)\n",
    "columns_val = list(df.columns.values)"
   ]
  },
  {
   "cell_type": "code",
   "execution_count": 153,
   "metadata": {},
   "outputs": [],
   "source": [
    "rfree_list = ['r-free final : no ncs', 'r-free final : cartesian ncs restraints', \n",
    "             'r-free final : torsion ncs restraints']\n",
    "rwork_list = ['r-work final : no ncs', 'r-work final : cartesian ncs restraints', \n",
    "             'r-work final : torsion ncs restraints']\n",
    "diff_list = ['no ncs','cartesian ncs restraints','torsion ncs restraints']"
   ]
  },
  {
   "cell_type": "code",
   "execution_count": 178,
   "metadata": {},
   "outputs": [
    {
     "name": "stdout",
     "output_type": "stream",
     "text": [
      "   pdb id  no ncs  cartesian ncs restraints  torsion ncs restraints\n",
      "6    3sja -0.0360                         0                 -0.0309\n",
      "7    4kqb -0.0509                         0                 -0.0500\n",
      "8    1pgr -0.0264                         0                 -0.0168\n",
      "10   4p19 -0.0293                         0                 -0.0234\n",
      "11   3f9k -0.0394                         0                 -0.0335\n",
      "Number of files with all results: 1368\n",
      "    r-free final : no ncs  r-free final : cartesian ncs restraints  \\\n",
      "6                  0.2419                                        0   \n",
      "7                  0.2577                                        0   \n",
      "8                  0.2795                                        0   \n",
      "10                 0.2681                                        0   \n",
      "11                 0.2277                                        0   \n",
      "\n",
      "    r-free final : torsion ncs restraints  \n",
      "6                                  0.2390  \n",
      "7                                  0.2585  \n",
      "8                                  0.2780  \n",
      "10                                 0.2675  \n",
      "11                                 0.2247  \n"
     ]
    }
   ],
   "source": [
    "# look at r-free final\n",
    "rfreefinal = df[rfree_list]\n",
    "# look at r-work final\n",
    "rworkfinal = df[rwork_list]\n",
    "# look at the difference\n",
    "x = rworkfinal.values\n",
    "y = rfreefinal.values\n",
    "# get values for r_work - r_free\n",
    "rdiff = pd.concat([df['pdb id'],pd.DataFrame(x-y,columns = diff_list)],axis=1)\n",
    "# relative values\n",
    "c = 'r-free final : no ncs'\n",
    "i = rfreefinal.columns.get_loc('r-free final : no ncs')\n",
    "# remove all PDBs without refinement results\n",
    "rdiff = rdiff.dropna(axis=0)\n",
    "print rdiff.head(5)\n",
    "print 'Number of files with all results:',len(rdiff)\n",
    "rfinal = rfreefinal.dropna(axis=0)\n",
    "# rfinal = rfinal.sort(['r-free final : no ncs'], ascending=True)\n",
    "print rfinal.head(5)"
   ]
  },
  {
   "cell_type": "code",
   "execution_count": 190,
   "metadata": {},
   "outputs": [
    {
     "name": "stdout",
     "output_type": "stream",
     "text": [
      "r-free final : torsion ncs restraints 1 .y 0.5\n",
      "r-free final : torsion ncs restraints 2 .k 0.5\n",
      "-0.0942 0.0267\n"
     ]
    }
   ],
   "source": [
    "# Scatter Plot r-work , r-free differene\n",
    "values = (rdiff.values).transpose()\n",
    "y = values[1]\n",
    "plot_types = ['.b','.y','.k']\n",
    "opacity = [1,0.5,0.5]\n",
    "for i in range(1,len(diff_list)):\n",
    "    print refine_t, i,plot_types[i],opacity[i]\n",
    "    x = values[i]\n",
    "    plt.plot(x,y,plot_types[i],alpha=opacity[i])\n",
    "\n",
    "# plot = rplot.RPlot(tips_data, x='total_bill', y='tip')\n",
    "min_x = min(y)\n",
    "max_x = max(y)\n",
    "print min_x,max_x\n",
    "plt.plot([min_x,max_x],[min_x,max_x],'-b')\n",
    "plt.xlim([min_x,max_x])\n",
    "plt.ylim([min_x,max_x])\n",
    "plt.show()"
   ]
  },
  {
   "cell_type": "code",
   "execution_count": 179,
   "metadata": {},
   "outputs": [],
   "source": [
    "# Plot r-free differene between methods\n",
    "x = range(len(rfinal))\n",
    "values = (rfinal.values).transpose()\n",
    "values = values[:,np.argsort(values[0,:])]\n",
    "plot_types = ['.-b','.y','.k']\n",
    "opacity = [1,0.5,0.5]\n",
    "for refine_t in rfree_list:\n",
    "    i = rfreefinal.columns.get_loc(refine_t)\n",
    "    y = values[i]\n",
    "    plt.plot(x,y,plot_types[i],alpha=opacity[i])\n",
    "\n",
    "# plot = rplot.RPlot(tips_data, x='total_bill', y='tip')\n",
    "# rfinal.plot()\n",
    "# plt.plot(x,values[0])\n",
    "plt.show()"
   ]
  },
  {
   "cell_type": "code",
   "execution_count": 174,
   "metadata": {},
   "outputs": [
    {
     "data": {
      "text/plain": [
       "array([ 0.186 ,  0.1977,  0.2   , ...,  0.501 ,  0.501 ,  0.5221])"
      ]
     },
     "execution_count": 174,
     "output_type": "execute_result",
     "metadata": {}
    }
   ],
   "source": [
    "values = values[:,np.argsort(values[0,:])]\n",
    "values[0]"
   ]
  },
  {
   "cell_type": "code",
   "execution_count": 129,
   "metadata": {},
   "outputs": [
    {
     "data": {
      "text/html": [
       "<div style=\"max-height:1000px;max-width:1500px;overflow:auto;\">\n",
       "<table border=\"1\" class=\"dataframe\">\n",
       "  <thead>\n",
       "    <tr style=\"text-align: right;\">\n",
       "      <th></th>\n",
       "      <th>r-free final : no ncs</th>\n",
       "      <th>r-free final : cartesian ncs restraints</th>\n",
       "      <th>r-free final : torsion ncs restraints</th>\n",
       "    </tr>\n",
       "  </thead>\n",
       "  <tbody>\n",
       "    <tr>\n",
       "      <th>1390</th>\n",
       "      <td> 0.1860</td>\n",
       "      <td> 0.0000</td>\n",
       "      <td> 0.1834</td>\n",
       "    </tr>\n",
       "    <tr>\n",
       "      <th>2176</th>\n",
       "      <td> 0.1977</td>\n",
       "      <td> 0.0000</td>\n",
       "      <td> 0.1910</td>\n",
       "    </tr>\n",
       "    <tr>\n",
       "      <th>1106</th>\n",
       "      <td> 0.2000</td>\n",
       "      <td> 0.1924</td>\n",
       "      <td> 0.1979</td>\n",
       "    </tr>\n",
       "    <tr>\n",
       "      <th>1164</th>\n",
       "      <td> 0.2017</td>\n",
       "      <td> 0.1958</td>\n",
       "      <td> 0.2021</td>\n",
       "    </tr>\n",
       "    <tr>\n",
       "      <th>2158</th>\n",
       "      <td> 0.2040</td>\n",
       "      <td> 0.0000</td>\n",
       "      <td> 0.1963</td>\n",
       "    </tr>\n",
       "    <tr>\n",
       "      <th>157 </th>\n",
       "      <td> 0.2051</td>\n",
       "      <td> 0.0000</td>\n",
       "      <td> 0.2027</td>\n",
       "    </tr>\n",
       "    <tr>\n",
       "      <th>2393</th>\n",
       "      <td> 0.2066</td>\n",
       "      <td> 0.0000</td>\n",
       "      <td> 0.2064</td>\n",
       "    </tr>\n",
       "    <tr>\n",
       "      <th>1943</th>\n",
       "      <td> 0.2074</td>\n",
       "      <td> 0.0000</td>\n",
       "      <td> 0.2107</td>\n",
       "    </tr>\n",
       "    <tr>\n",
       "      <th>1748</th>\n",
       "      <td> 0.2081</td>\n",
       "      <td> 0.0000</td>\n",
       "      <td> 0.2075</td>\n",
       "    </tr>\n",
       "    <tr>\n",
       "      <th>937 </th>\n",
       "      <td> 0.2081</td>\n",
       "      <td> 0.0000</td>\n",
       "      <td> 0.2071</td>\n",
       "    </tr>\n",
       "  </tbody>\n",
       "</table>\n",
       "</div>"
      ]
     },
     "output_type": "execute_result",
     "metadata": {}
    }
   ],
   "source": [
    "rfinal = rfreefinal.dropna(axis=0)\n",
    "rfinal = rfinal.sort(['r-free final : no ncs'], ascending=True)\n",
    "rfinal.head(10)"
   ]
  },
  {
   "cell_type": "code",
   "execution_count": 103,
   "metadata": {},
   "outputs": [
    {
     "ename": "NameError",
     "evalue": "name 'rfinal' is not defined",
     "output_type": "error",
     "traceback": [
      "\u001b[1;31m---------------------------------------------------------------------------\u001b[0m",
      "\u001b[1;31mNameError\u001b[0m                                 Traceback (most recent call last)",
      "\u001b[1;32m<ipython-input-103-78d626437598>\u001b[0m in \u001b[0;36m<module>\u001b[1;34m()\u001b[0m\n\u001b[1;32m----> 1\u001b[1;33m \u001b[0mrfinal\u001b[0m\u001b[1;33m.\u001b[0m\u001b[0mcolumns\u001b[0m\u001b[1;33m\u001b[0m\u001b[0m\n\u001b[0m",
      "\u001b[1;31mNameError\u001b[0m: name 'rfinal' is not defined"
     ]
    }
   ],
   "source": [
    ""
   ]
  },
  {
   "cell_type": "code",
   "execution_count": 28,
   "metadata": {},
   "outputs": [
    {
     "data": {
      "text/plain": [
       "0   NaN\n",
       "1   NaN\n",
       "2   NaN\n",
       "3   NaN\n",
       "4   NaN\n",
       "Name: r-free final : no ncs, dtype: float64"
      ]
     },
     "execution_count": 28,
     "output_type": "execute_result",
     "metadata": {}
    }
   ],
   "source": [
    "rfreefinal['r-free final : no ncs'].head(5)"
   ]
  },
  {
   "cell_type": "code",
   "execution_count": 52,
   "metadata": {},
   "outputs": [],
   "source": [
    "x = rfreefinal.values\n",
    "y = rworkfinal.values"
   ]
  },
  {
   "cell_type": "code",
   "execution_count": 100,
   "metadata": {},
   "outputs": [
    {
     "data": {
      "text/plain": [
       "18"
      ]
     },
     "execution_count": 100,
     "output_type": "execute_result",
     "metadata": {}
    }
   ],
   "source": [
    "df.columns.get_loc('r-free final : no ncs')"
   ]
  },
  {
   "cell_type": "code",
   "execution_count": 70,
   "metadata": {},
   "outputs": [
    {
     "data": {
      "text/plain": [
       "2946"
      ]
     },
     "execution_count": 70,
     "output_type": "execute_result",
     "metadata": {}
    }
   ],
   "source": [
    "rdiff = pd.concat([df['pdb id'],pd.DataFrame(x-y,columns = diff_list)],axis=1)\n",
    "len(rdiff)"
   ]
  },
  {
   "cell_type": "code",
   "execution_count": 71,
   "metadata": {},
   "outputs": [
    {
     "data": {
      "text/html": [
       "<div style=\"max-height:1000px;max-width:1500px;overflow:auto;\">\n",
       "<table border=\"1\" class=\"dataframe\">\n",
       "  <thead>\n",
       "    <tr style=\"text-align: right;\">\n",
       "      <th></th>\n",
       "      <th>pdb id</th>\n",
       "      <th>no ncs</th>\n",
       "      <th>cartesian ncs restraints</th>\n",
       "      <th>torsion ncs restraints</th>\n",
       "    </tr>\n",
       "  </thead>\n",
       "  <tbody>\n",
       "    <tr>\n",
       "      <th>6</th>\n",
       "      <td> 3sja</td>\n",
       "      <td> 0.0360</td>\n",
       "      <td> 0</td>\n",
       "      <td> 0.0309</td>\n",
       "    </tr>\n",
       "    <tr>\n",
       "      <th>7</th>\n",
       "      <td> 4kqb</td>\n",
       "      <td> 0.0509</td>\n",
       "      <td> 0</td>\n",
       "      <td> 0.0500</td>\n",
       "    </tr>\n",
       "    <tr>\n",
       "      <th>8</th>\n",
       "      <td> 1pgr</td>\n",
       "      <td> 0.0264</td>\n",
       "      <td> 0</td>\n",
       "      <td> 0.0168</td>\n",
       "    </tr>\n",
       "  </tbody>\n",
       "</table>\n",
       "</div>"
      ]
     },
     "output_type": "execute_result",
     "metadata": {}
    }
   ],
   "source": [
    "rdiff.dropna(axis=0).head(3)"
   ]
  },
  {
   "cell_type": "code",
   "execution_count": 65,
   "metadata": {},
   "outputs": [],
   "source": [
    "a = pd.DataFrame(x-y,columns = diff_list)"
   ]
  },
  {
   "cell_type": "code",
   "execution_count": 73,
   "metadata": {},
   "outputs": [
    {
     "data": {
      "text/html": [
       "<div style=\"max-height:1000px;max-width:1500px;overflow:auto;\">\n",
       "<table border=\"1\" class=\"dataframe\">\n",
       "  <thead>\n",
       "    <tr style=\"text-align: right;\">\n",
       "      <th></th>\n",
       "      <th>pdb id</th>\n",
       "      <th>no ncs</th>\n",
       "      <th>cartesian ncs restraints</th>\n",
       "      <th>torsion ncs restraints</th>\n",
       "    </tr>\n",
       "  </thead>\n",
       "  <tbody>\n",
       "    <tr>\n",
       "      <th>6</th>\n",
       "      <td> 3sja</td>\n",
       "      <td> 0.0360</td>\n",
       "      <td> 0</td>\n",
       "      <td> 0.0309</td>\n",
       "    </tr>\n",
       "    <tr>\n",
       "      <th>7</th>\n",
       "      <td> 4kqb</td>\n",
       "      <td> 0.0509</td>\n",
       "      <td> 0</td>\n",
       "      <td> 0.0500</td>\n",
       "    </tr>\n",
       "    <tr>\n",
       "      <th>8</th>\n",
       "      <td> 1pgr</td>\n",
       "      <td> 0.0264</td>\n",
       "      <td> 0</td>\n",
       "      <td> 0.0168</td>\n",
       "    </tr>\n",
       "  </tbody>\n",
       "</table>\n",
       "</div>"
      ]
     },
     "output_type": "execute_result",
     "metadata": {}
    }
   ],
   "source": [
    "rdiff = pd.concat([df['pdb id'],a],axis=1)\n",
    "len(rdiff)\n",
    "rdiff.dropna(axis=0).head(3)"
   ]
  },
  {
   "cell_type": "code",
   "metadata": {},
   "outputs": [],
   "source": [
    ""
   ]
  }
 ],
 "metadata": {
  "kernelspec": {
   "display_name": "Python 2",
   "language": "python",
   "name": "python2"
  },
  "language_info": {
   "codemirror_mode": {
    "name": "ipython",
    "version": 2.0
   },
   "file_extension": ".py",
   "mimetype": "text/x-python",
   "name": "python",
   "nbconvert_exporter": "python",
   "pygments_lexer": "ipython2",
   "version": "2.7.9"
  }
 },
 "nbformat": 4,
 "nbformat_minor": 0
}