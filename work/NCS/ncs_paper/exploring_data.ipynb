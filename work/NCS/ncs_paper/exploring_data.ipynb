{
 "worksheets": [
  {
   "cells": [
    {
     "cell_type": "code",
     "metadata": {},
     "outputs": [],
     "input": [
      "import matplotlib.pyplot as plt\n",
      "import pandas as pd\n",
      "import numpy as np\n",
      "import os\n",
      "\n",
      "p = r'C:\\Phenix\\Dev\\work\\work\\work\\NCS\\ncs_paper'\n",
      "fn = r'C:\\Phenix\\Dev\\work\\work\\work\\NCS\\ncs_paper\\ncs_paper_data_files\\ncs_paper_data.csv'\n",
      "os.chdir(p)"
     ],
     "language": "python",
     "prompt_number": 31
    },
    {
     "cell_type": "code",
     "metadata": {},
     "outputs": [],
     "input": [
      "# create a data frame from refinement results\n",
      "df = pd.DataFrame.from_csv(fn)\n",
      "columns_val = list(df.columns.values)"
     ],
     "language": "python",
     "prompt_number": 32
    },
    {
     "cell_type": "code",
     "metadata": {},
     "outputs": [
      {
       "output_type": "pyout",
       "text": [
        "Index([u'n copies', u'year', u'resolution', u'completeness', u'solvent fraction', u'experiment', u'master only', u'atoms in asu', u'p-to-d ratio ncs', u'p-to-d ratio asu', u'r-free header', u'r-work header', u'r-free model vs data', u'r-work model vs data', u'r-free init : no ncs', u'r-work init : no ncs', u'r-free final : no ncs', u'r-work final : no ncs', u'refinement time : no ncs', u'all-atom clashscore : no ncs', u'rotamer outliers : no ncs', u'cbeta deviations : no ncs', u'r-free init : cartesian ncs restraints', u'r-work init : cartesian ncs restraints', u'r-free final : cartesian ncs restraints', u'r-work final : cartesian ncs restraints', u'refinement time : cartesian ncs restraints', u'all-atom clashscore : cartesian ncs restraints', u'rotamer outliers : cartesian ncs restraints', u'cbeta deviations : cartesian ncs restraints', u'r-free init : torsion ncs restraints', u'r-work init : torsion ncs restraints', u'r-free final : torsion ncs restraints', u'r-work final : torsion ncs restraints', u'refinement time : torsion ncs restraints', u'all-atom clashscore : torsion ncs restraints', u'rotamer outliers : torsion ncs restraints', u'cbeta deviations : torsion ncs restraints', u'r-free init : ncs constraints no operators', u'r-work init : ncs constraints no operators', u'r-free final : ncs constraints no operators', u'r-work final : ncs constraints no operators', u'refinement time : ncs constraints no operators', u'all-atom clashscore : ncs constraints no operators', u'rotamer outliers : ncs constraints no operators', u'cbeta deviations : ncs constraints no operators', u'r-free init : ncs constraints all', u'r-work init : ncs constraints all', u'r-free final : ncs constraints all', u'r-work final : ncs constraints all', u'refinement time : ncs constraints all', u'all-atom clashscore : ncs constraints all', u'rotamer outliers : ncs constraints all', u'cbeta deviations : ncs constraints all'], dtype='object')"
       ],
       "metadata": {}
      }
     ],
     "input": [
      "df.columns"
     ],
     "language": "python",
     "prompt_number": 25
    },
    {
     "cell_type": "code",
     "metadata": {},
     "outputs": [],
     "input": [
      "dir(df)"
     ],
     "language": "python"
    },
    {
     "cell_type": "code",
     "metadata": {},
     "outputs": [
      {
       "output_type": "pyout",
       "text": [
        "Index([u'n copies', u'year', u'resolution', u'completeness', u'solvent fraction', u'experiment', u'master only', u'atoms in asu', u'p-to-d ratio ncs', u'p-to-d ratio asu', u'r-free header', u'r-work header', u'r-free model vs data', u'r-work model vs data', u'r-free init : no ncs', u'r-work init : no ncs', u'r-free final : no ncs', u'r-work final : no ncs', u'refinement time : no ncs', u'all-atom clashscore : no ncs', u'rotamer outliers : no ncs', u'cbeta deviations : no ncs', u'r-free init : cartesian ncs restraints', u'r-work init : cartesian ncs restraints', u'r-free final : cartesian ncs restraints', u'r-work final : cartesian ncs restraints', u'refinement time : cartesian ncs restraints', u'all-atom clashscore : cartesian ncs restraints', u'rotamer outliers : cartesian ncs restraints', u'cbeta deviations : cartesian ncs restraints', u'r-free init : torsion ncs restraints', u'r-work init : torsion ncs restraints', u'r-free final : torsion ncs restraints', u'r-work final : torsion ncs restraints', u'refinement time : torsion ncs restraints', u'all-atom clashscore : torsion ncs restraints', u'rotamer outliers : torsion ncs restraints', u'cbeta deviations : torsion ncs restraints', u'r-free init : ncs constraints no operators', u'r-work init : ncs constraints no operators', u'r-free final : ncs constraints no operators', u'r-work final : ncs constraints no operators', u'refinement time : ncs constraints no operators', u'all-atom clashscore : ncs constraints no operators', u'rotamer outliers : ncs constraints no operators', u'cbeta deviations : ncs constraints no operators', u'r-free init : ncs constraints all', u'r-work init : ncs constraints all', u'r-free final : ncs constraints all', u'r-work final : ncs constraints all', u'refinement time : ncs constraints all', u'all-atom clashscore : ncs constraints all', u'rotamer outliers : ncs constraints all', u'cbeta deviations : ncs constraints all'], dtype='object')"
       ],
       "metadata": {}
      }
     ],
     "input": [
      "df.columns"
     ],
     "language": "python",
     "prompt_number": 33
    },
    {
     "cell_type": "code",
     "metadata": {},
     "outputs": [],
     "input": [
      ""
     ],
     "language": "python"
    }
   ]
  }
 ],
 "cells": [],
 "metadata": {},
 "nbformat": 3,
 "nbformat_minor": 0
}